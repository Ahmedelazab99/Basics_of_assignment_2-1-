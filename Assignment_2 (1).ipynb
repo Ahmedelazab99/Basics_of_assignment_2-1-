{
 "cells": [
  {
   "cell_type": "markdown",
   "metadata": {
    "id": "cQjske4j2iz6"
   },
   "source": [
    "<img src=\"\n",
    "https://imgb.ifunny.co/images/260a7fcce43e69c183439ce592b5643caa8d2189f60a2c87798fa3f12ea31734_1.jpg\" alt=\"Italian Trulli\">\n",
    "\n",
    "<img src=\"https://www.theinsaneapp.com/wp-content/uploads/2022/04/programming-concepts-if-else-statement-explained.webp\" alt=\"Italian Trulli\">\n",
    "\n",
    "\n"
   ]
  },
  {
   "cell_type": "markdown",
   "metadata": {
    "id": "zkQEwzd-4VZS"
   },
   "source": [
    "# Questions"
   ]
  },
  {
   "cell_type": "markdown",
   "metadata": {
    "id": "sHENwlzP4F8o"
   },
   "source": [
    "##1- Check if a number is zero, positive, or negative:\n",
    "\n",
    "\n",
    "\n"
   ]
  },
  {
   "cell_type": "code",
   "execution_count": 24,
   "metadata": {},
   "outputs": [
    {
     "name": "stdin",
     "output_type": "stream",
     "text": [
      "Enter number: -5\n"
     ]
    },
    {
     "name": "stdout",
     "output_type": "stream",
     "text": [
      "Negative\n"
     ]
    }
   ],
   "source": [
    "num = eval(input(\"Enter number:\"))\n",
    "if(num==0):\n",
    "  print(\"Zero\")\n",
    "elif(num>0):\n",
    "  print(\"Positive\")\n",
    "else: print(\"Negative\")"
   ]
  },
  {
   "cell_type": "markdown",
   "metadata": {
    "id": "WeMY5-PH4J_o"
   },
   "source": [
    "##2- Determine if a number is even or odd"
   ]
  },
  {
   "cell_type": "code",
   "execution_count": 1,
   "metadata": {},
   "outputs": [
    {
     "name": "stdin",
     "output_type": "stream",
     "text": [
      "Enter a number: 10\n"
     ]
    },
    {
     "name": "stdout",
     "output_type": "stream",
     "text": [
      "even\n"
     ]
    }
   ],
   "source": [
    "my_number = int(input(\"Enter a number:\"))\n",
    "if my_number % 2:\n",
    "    print(\"odd\")\n",
    "else:\n",
    "    print(\"even\")"
   ]
  },
  {
   "cell_type": "markdown",
   "metadata": {
    "id": "mANhesbt4Mr5"
   },
   "source": [
    "##3- Check if a person is eligible to vote"
   ]
  },
  {
   "cell_type": "code",
   "execution_count": 9,
   "metadata": {},
   "outputs": [
    {
     "name": "stdin",
     "output_type": "stream",
     "text": [
      "Enter your age: 19\n"
     ]
    },
    {
     "name": "stdout",
     "output_type": "stream",
     "text": [
      "Eligible\n"
     ]
    }
   ],
   "source": [
    "age = eval(input(\"Enter your age:\"))\n",
    "if age >= 18:\n",
    "    print(\"Eligible\")\n",
    "else:\n",
    "    print(\"Not eligible\")"
   ]
  },
  {
   "cell_type": "markdown",
   "metadata": {
    "id": "CHbBMmrh4Qrr"
   },
   "source": [
    "##4- Determine the larger of two numbers"
   ]
  },
  {
   "cell_type": "code",
   "execution_count": 19,
   "metadata": {},
   "outputs": [
    {
     "name": "stdin",
     "output_type": "stream",
     "text": [
      "Enter first number: -1\n",
      "Enter second number: -8\n"
     ]
    },
    {
     "name": "stdout",
     "output_type": "stream",
     "text": [
      "First is larger.\n"
     ]
    }
   ],
   "source": [
    "first = eval(input(\"Enter first number:\"))\n",
    "second = eval(input(\"Enter second number:\"))\n",
    "if first > second:\n",
    "    print(\"First is larger.\")\n",
    "elif first == second:\n",
    "    print(\"Both numbers are equal.\")\n",
    "else:\n",
    "    print(\"Second is larger.\")"
   ]
  },
  {
   "cell_type": "markdown",
   "metadata": {
    "id": "mGWzcziV4dzI"
   },
   "source": [
    "## 5-Check if a number is divisible by 5:"
   ]
  },
  {
   "cell_type": "code",
   "execution_count": 43,
   "metadata": {},
   "outputs": [
    {
     "name": "stdin",
     "output_type": "stream",
     "text": [
      "Enter a number: 7\n"
     ]
    },
    {
     "name": "stdout",
     "output_type": "stream",
     "text": [
      "no\n"
     ]
    }
   ],
   "source": [
    "num = eval(input(\"Enter a number:\"))\n",
    "if num%5 == 0:\n",
    "    print(\"yes\")\n",
    "else:\n",
    "    print(\"no\")"
   ]
  },
  {
   "cell_type": "markdown",
   "metadata": {
    "id": "g2LbBWSp4o7_"
   },
   "source": [
    "##6-Determine if a character is a vowel or consonant:\n",
    "\n"
   ]
  },
  {
   "cell_type": "code",
   "execution_count": 55,
   "metadata": {},
   "outputs": [
    {
     "name": "stdin",
     "output_type": "stream",
     "text": [
      "Enter a character: k\n"
     ]
    },
    {
     "name": "stdout",
     "output_type": "stream",
     "text": [
      "no\n"
     ]
    }
   ],
   "source": [
    "character = input(\"Enter a character:\")\n",
    "vowels = ['a','i','e','o','u']\n",
    "if character in vowels:\n",
    "    print(\"yes\")\n",
    "else:\n",
    "    print(\"no\")"
   ]
  },
  {
   "cell_type": "markdown",
   "metadata": {
    "id": "cr_7Ea1N4xgo"
   },
   "source": [
    "##7-Check if a year is a leap year:"
   ]
  },
  {
   "cell_type": "code",
   "execution_count": 63,
   "metadata": {},
   "outputs": [
    {
     "name": "stdin",
     "output_type": "stream",
     "text": [
      "Enter a year: 1516\n"
     ]
    },
    {
     "name": "stdout",
     "output_type": "stream",
     "text": [
      "This year is a leap year.\n"
     ]
    }
   ],
   "source": [
    "year = eval(input(\"Enter a year:\"))\n",
    "if year%4 == 0:\n",
    "    print(\"This year is a leap year.\")\n",
    "else:\n",
    "    print(\"This year is not a leap year.\")"
   ]
  },
  {
   "cell_type": "markdown",
   "metadata": {
    "id": "GoCproqj41Ff"
   },
   "source": [
    "##8-Find the absolute value of a number:\n",
    "\n"
   ]
  },
  {
   "cell_type": "code",
   "execution_count": 13,
   "metadata": {},
   "outputs": [
    {
     "name": "stdin",
     "output_type": "stream",
     "text": [
      "Enter a number: -5\n"
     ]
    },
    {
     "name": "stdout",
     "output_type": "stream",
     "text": [
      "5\n"
     ]
    }
   ],
   "source": [
    "num = eval(input(\"Enter a number:\"))\n",
    "print(abs(num))"
   ]
  },
  {
   "cell_type": "markdown",
   "metadata": {
    "id": "_16Z8czr5AlJ"
   },
   "source": [
    "## 9-Check if a character is an uppercase or lowercase letter:\n",
    "\n"
   ]
  },
  {
   "cell_type": "code",
   "execution_count": 15,
   "metadata": {},
   "outputs": [
    {
     "name": "stdin",
     "output_type": "stream",
     "text": [
      "Enter a character: D\n"
     ]
    },
    {
     "name": "stdout",
     "output_type": "stream",
     "text": [
      "Upper\n"
     ]
    }
   ],
   "source": [
    "characters = input(\"Enter a character:\")\n",
    "character = characters.upper()\n",
    "if characters == character:\n",
    "    print(\"Upper\")\n",
    "else:\n",
    "    print(\"Lower\")"
   ]
  },
  {
   "cell_type": "markdown",
   "metadata": {
    "id": "5kV88j-G5KhP"
   },
   "source": [
    "## 10-Determine if a string is empty or not"
   ]
  },
  {
   "cell_type": "code",
   "execution_count": 19,
   "metadata": {},
   "outputs": [
    {
     "name": "stdin",
     "output_type": "stream",
     "text": [
      "Enter your string dg\n"
     ]
    },
    {
     "name": "stdout",
     "output_type": "stream",
     "text": [
      "Your string is not empty.\n"
     ]
    }
   ],
   "source": [
    "str = input(\"Enter your string\")\n",
    "if str == \"\":\n",
    "    print(\"Your string is empty.\")\n",
    "else:\n",
    "    print(\"Your string is not empty.\")"
   ]
  },
  {
   "cell_type": "markdown",
   "metadata": {
    "id": "nqZaDG1W5Rs3"
   },
   "source": [
    "## 11-Determine if a number is within a specific range (10-50):"
   ]
  },
  {
   "cell_type": "code",
   "execution_count": 43,
   "metadata": {},
   "outputs": [
    {
     "name": "stdin",
     "output_type": "stream",
     "text": [
      "Enter your number: 10\n"
     ]
    },
    {
     "name": "stdout",
     "output_type": "stream",
     "text": [
      "Your number is in range.\n"
     ]
    }
   ],
   "source": [
    "num = eval(input(\"Enter your number:\"))\n",
    "if num >= 10 and num <= 50:\n",
    "    print(\"Your number is in range.\")\n",
    "else:\n",
    "    print(\"Your nunmber is out of range.\")"
   ]
  },
  {
   "cell_type": "markdown",
   "metadata": {
    "id": "wYpMuxGM5iNo"
   },
   "source": [
    "## 12-Determine if a person is eligible for a senior citizen discount (age >= 60):"
   ]
  },
  {
   "cell_type": "code",
   "execution_count": 49,
   "metadata": {},
   "outputs": [
    {
     "name": "stdin",
     "output_type": "stream",
     "text": [
      "Enter your age: 60\n"
     ]
    },
    {
     "name": "stdout",
     "output_type": "stream",
     "text": [
      "Eligible\n"
     ]
    }
   ],
   "source": [
    "age = eval(input(\"Enter your age:\"))\n",
    "print(\"Eligible\") if age >= 60 else print(\"Not eligible\")"
   ]
  },
  {
   "cell_type": "markdown",
   "metadata": {
    "id": "1QrXYZ4O5qXW"
   },
   "source": [
    "## 13-Check if a string contains only alphabets"
   ]
  },
  {
   "cell_type": "code",
   "execution_count": 95,
   "metadata": {},
   "outputs": [
    {
     "name": "stdin",
     "output_type": "stream",
     "text": [
      "Enter your string: mo\n"
     ]
    },
    {
     "name": "stdout",
     "output_type": "stream",
     "text": [
      "Yes\n"
     ]
    }
   ],
   "source": [
    "str = input(\"Enter your string:\")\n",
    "if str.isalpha():\n",
    "    print(\"Yes\")\n",
    "else:\n",
    "    print(\"No\")\n"
   ]
  },
  {
   "cell_type": "markdown",
   "metadata": {
    "id": "doQtI_0j5vof"
   },
   "source": [
    "## 14-Check if a character is a digit:"
   ]
  },
  {
   "cell_type": "code",
   "execution_count": 103,
   "metadata": {},
   "outputs": [
    {
     "name": "stdin",
     "output_type": "stream",
     "text": [
      "Enter a character: 64\n"
     ]
    },
    {
     "name": "stdout",
     "output_type": "stream",
     "text": [
      "Yes\n"
     ]
    }
   ],
   "source": [
    "chracter = input(\"Enter a character:\")\n",
    "if chracter.isdigit():\n",
    "    print(\"Yes\")\n",
    "else:\n",
    "    print(\"No\")"
   ]
  },
  {
   "cell_type": "markdown",
   "metadata": {
    "id": "8mLvVKRj50Le"
   },
   "source": [
    "## 15-Determine the smallest of three numbers:"
   ]
  },
  {
   "cell_type": "code",
   "execution_count": 53,
   "metadata": {},
   "outputs": [
    {
     "name": "stdin",
     "output_type": "stream",
     "text": [
      "Enter first number: 68\n",
      "Enter second number: 6871\n",
      "Enter third number: 54\n"
     ]
    },
    {
     "name": "stdout",
     "output_type": "stream",
     "text": [
      "Number three is the smallest number.\n"
     ]
    }
   ],
   "source": [
    "num1 = eval(input(\"Enter first number:\"))\n",
    "num2 = eval(input(\"Enter second number:\"))\n",
    "num3 = eval(input(\"Enter third number:\"))\n",
    "if num1<num2 and num1<num3:\n",
    "    print(\"Number one is the smallest number.\")\n",
    "elif num2<num1 and num2<num3:\n",
    "    print(\"Number two is the smallest number.\")\n",
    "else:\n",
    "    print(\"Number three is the smallest number.\")\n",
    "\n"
   ]
  },
  {
   "cell_type": "markdown",
   "metadata": {
    "id": "zzgQZWzi53lG"
   },
   "source": [
    "## 16-Check if a number is a palindrome"
   ]
  },
  {
   "cell_type": "code",
   "execution_count": 64,
   "metadata": {},
   "outputs": [
    {
     "name": "stdin",
     "output_type": "stream",
     "text": [
      "Enter a number: asa\n"
     ]
    },
    {
     "name": "stdout",
     "output_type": "stream",
     "text": [
      "yes\n"
     ]
    }
   ],
   "source": [
    "num = list(input(\"Enter a number:\"))\n",
    "if num == num[::-1]:\n",
    "    print(\"yes\")\n",
    "else:\n",
    "    print(\"no\")"
   ]
  },
  {
   "cell_type": "markdown",
   "metadata": {
    "id": "Dc3hKX6w6EY-"
   },
   "source": [
    "## 17-Check if a given time (in 24-hour format) is in the morning or afternoon:\n",
    "\n"
   ]
  },
  {
   "cell_type": "code",
   "execution_count": 76,
   "metadata": {},
   "outputs": [
    {
     "name": "stdin",
     "output_type": "stream",
     "text": [
      "Enter a time: 12\n"
     ]
    },
    {
     "name": "stdout",
     "output_type": "stream",
     "text": [
      "Afternoon\n"
     ]
    }
   ],
   "source": [
    "time = eval(input(\"Enter a time:\"))\n",
    "if time >=1 and time <=12:\n",
    "    print(\"Afternoon\")\n",
    "elif time >12 and time<=24:\n",
    "    print(\"Morning\")\n",
    "else:\n",
    "    print(\"Invalid time\")"
   ]
  },
  {
   "cell_type": "markdown",
   "metadata": {
    "id": "RBHnP9Po6fHX"
   },
   "source": [
    "## 18-Check if a string is a valid email address:\n",
    "-  Check (@) and (.) in email if @ and. this mean valid\n",
    "-  input:test@example.com\n",
    "-  output Valid email address"
   ]
  },
  {
   "cell_type": "code",
   "execution_count": 84,
   "metadata": {
    "id": "9euaMrXW2fln"
   },
   "outputs": [
    {
     "name": "stdin",
     "output_type": "stream",
     "text": [
      "Enter your email address: dhg@sdufihg.lsijhg\n"
     ]
    },
    {
     "name": "stdout",
     "output_type": "stream",
     "text": [
      "Valid\n"
     ]
    }
   ],
   "source": [
    "email = input(\"Enter your email address:\")\n",
    "if \"@\" in email and \".\" in email:\n",
    "    print(\"Valid\")\n",
    "else:\n",
    "    print(\"Invalid\")"
   ]
  }
 ],
 "metadata": {
  "colab": {
   "private_outputs": true,
   "provenance": []
  },
  "kernelspec": {
   "display_name": "Python 3 (ipykernel)",
   "language": "python",
   "name": "python3"
  },
  "language_info": {
   "codemirror_mode": {
    "name": "ipython",
    "version": 3
   },
   "file_extension": ".py",
   "mimetype": "text/x-python",
   "name": "python",
   "nbconvert_exporter": "python",
   "pygments_lexer": "ipython3",
   "version": "3.12.4"
  }
 },
 "nbformat": 4,
 "nbformat_minor": 4
}
